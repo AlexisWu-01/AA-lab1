{
 "cells": [
  {
   "cell_type": "code",
   "execution_count": 21,
   "metadata": {},
   "outputs": [],
   "source": [
    "def read3Par(s,T):\n",
    "    if len(s)%3 > 1e-6:\n",
    "        print('Impossible to divide into subsets of size 3!')\n",
    "        return \n",
    "    return s,T"
   ]
  },
  {
   "cell_type": "code",
   "execution_count": 22,
   "metadata": {},
   "outputs": [],
   "source": [
    "def initGB(s,T):\n",
    "    if read3Par:\n",
    "        begin = [[0,0,1,1],[1,0,1,1],[1,0,1,1]]\n",
    "        notch = [[0,0,1,1],[0,0,1,1],[0,0,1,1],[0,0,0,1],[0,0,0,1]]\n",
    "        end = [[0,0,0,0],[0,0,0,0]]\n",
    "        bucket = end+notch*T+begin\n",
    "        GB = [i*int(len(s)/3) for i in bucket]\n",
    "        fill_area = [[0,0,0,0,0,0],[0,0,0,0,0,0],[0,0,0,1,1,1],[1,0,1,1,1,1]]+[[0,0,0,0,0,0]]*(len(bucket)-4)\n",
    "        GB = [GB[i]+fill_area[i] for i in range(len(GB))]\n",
    "        return GB"
   ]
  },
  {
   "cell_type": "code",
   "execution_count": null,
   "metadata": {},
   "outputs": [],
   "source": [
    "\n",
    "    \n"
   ]
  },
  {
   "cell_type": "code",
   "execution_count": null,
   "metadata": {},
   "outputs": [],
   "source": []
  }
 ],
 "metadata": {
  "kernelspec": {
   "display_name": "Python 3.7.4 64-bit",
   "language": "python",
   "name": "python37464bit3522fa8ebaf74843b0694d7be655758f"
  },
  "language_info": {
   "codemirror_mode": {
    "name": "ipython",
    "version": 3
   },
   "file_extension": ".py",
   "mimetype": "text/x-python",
   "name": "python",
   "nbconvert_exporter": "python",
   "pygments_lexer": "ipython3",
   "version": "3.7.4"
  }
 },
 "nbformat": 4,
 "nbformat_minor": 4
}
